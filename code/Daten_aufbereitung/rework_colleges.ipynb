{
 "cells": [
  {
   "cell_type": "code",
   "execution_count": 1,
   "id": "205dc82d-14c0-4279-871a-f19f4c8174ed",
   "metadata": {
    "ExecuteTime": {
     "end_time": "2023-10-29T11:59:48.092384128Z",
     "start_time": "2023-10-29T11:59:47.791708798Z"
    }
   },
   "outputs": [],
   "source": [
    "import json\n",
    "import pandas as pd\n",
    "from pandas import json_normalize\n",
    "\n",
    "# Load the JSON data\n",
    "with open('masterjson.json', 'r') as file:\n",
    "    data = json.load(file)\n"
   ]
  },
  {
   "cell_type": "code",
   "execution_count": 2,
   "id": "1b1fa93a-340e-466e-9e32-f7519ae70dbd",
   "metadata": {
    "ExecuteTime": {
     "end_time": "2023-10-29T11:59:48.092933894Z",
     "start_time": "2023-10-29T11:59:48.087582165Z"
    }
   },
   "outputs": [],
   "source": [
    "for item in data['results']:\n",
    "    # Merge the attributes from 'attrs' into the main item\n",
    "    item.update(item['attrs'])\n",
    "    # Delete the now unnecessary keys\n",
    "    del item['attrs']\n",
    "    del item['id']\n",
    "    del item['weight']\n",
    "    del item['geom_quadindex']\n",
    "    del item['geom_st_box2d']\n",
    "    del item['origin']\n",
    "    del item['rank']\n",
    "    del item['x']\n",
    "    del item['y']\n",
    "    del item['zoomlevel']\n",
    "    del item['num']\n",
    "    del item['detail']"
   ]
  },
  {
   "cell_type": "code",
   "execution_count": 3,
   "id": "0981ba42-899d-4dc8-8e26-074affea336a",
   "metadata": {
    "ExecuteTime": {
     "end_time": "2023-10-29T11:59:48.109778940Z",
     "start_time": "2023-10-29T11:59:48.090491921Z"
    }
   },
   "outputs": [
    {
     "name": "stdout",
     "output_type": "stream",
     "text": [
      "Index(['label', 'lat', 'lon', 'objectclass', 'Kategorie', 'schoolshort',\n",
      "       'name', 'quarter', 'city', 'address', 'zipcode'],\n",
      "      dtype='object')\n"
     ]
    }
   ],
   "source": [
    "nodes_data = data['results']\n",
    "\n",
    "# Convert to DataFrame\n",
    "df = pd.DataFrame(nodes_data)\n",
    "\n",
    "print(df.columns)\n"
   ]
  },
  {
   "cell_type": "code",
   "execution_count": 4,
   "id": "3550b4e1-fd61-43ca-870f-d24653a3c71c",
   "metadata": {
    "ExecuteTime": {
     "end_time": "2023-10-29T11:59:48.110208370Z",
     "start_time": "2023-10-29T11:59:48.101895338Z"
    }
   },
   "outputs": [],
   "source": [
    "data_dict = df.to_dict(orient='records')\n",
    "\n"
   ]
  },
  {
   "cell_type": "code",
   "execution_count": 5,
   "id": "d2a92d1c-2f7b-4650-b843-0db3f9116fed",
   "metadata": {
    "ExecuteTime": {
     "end_time": "2023-10-29T11:59:48.159247267Z",
     "start_time": "2023-10-29T11:59:48.111109409Z"
    }
   },
   "outputs": [
    {
     "name": "stdout",
     "output_type": "stream",
     "text": [
      "Die Gemeinde für die Postleitzahl 1702 ist Unbekannt.\n"
     ]
    }
   ],
   "source": [
    "### nur als proof of concept kann übersprungen werdem\n",
    "import pandas as pd\n",
    "\n",
    "def finde_gemeinde(plz):\n",
    "    dateiname = 'PLZO_CSV_LV95.csv'\n",
    "    df = pd.read_csv(dateiname, encoding='utf-8', delimiter=';')\n",
    "\n",
    "    # Ensure PLZ column is of type int\n",
    "    df['PLZ'] = df['PLZ'].astype(str).str.strip().astype(int)\n",
    "    \n",
    "    matching_rows = df[df['PLZ'] == plz]['Gemeindename']\n",
    "\n",
    "    if matching_rows.empty:\n",
    "        return \"Unbekannt\"\n",
    "\n",
    "    return matching_rows.values[0]\n",
    "\n",
    "# Test der Funktion\n",
    "postleitzahl = 1702\n",
    "print(f\"Die Gemeinde für die Postleitzahl {postleitzahl} ist {finde_gemeinde(postleitzahl)}.\")\n",
    "\n"
   ]
  },
  {
   "cell_type": "code",
   "execution_count": 6,
   "outputs": [],
   "source": [
    "import pandas as pd\n",
    "import json\n",
    "\n",
    "def finde_gemeinde(plz):\n",
    "    \"\"\"\n",
    "    Diese Funktion sucht nach einer Gemeinde basierend auf einer gegebenen Postleitzahl (PLZ).\n",
    "\n",
    "    :param plz: Die Postleitzahl, für die die Gemeinde gesucht werden soll.\n",
    "    :return: Den Namen der Gemeinde, die der gegebenen PLZ entspricht, oder None, wenn keine gefunden wird.\n",
    "    \"\"\"\n",
    "\n",
    "    # Dateiname der CSV-Datei, die die PLZ und Gemeindenamen enthält.\n",
    "    dateiname = 'PLZO_CSV_LV95.csv'\n",
    "\n",
    "    # Die CSV-Datei wird in einen Pandas DataFrame geladen.\n",
    "    # Das Einlesen der Datei bei jedem Aufruf ist nicht besonders effizient, aber die Datenmenge ist wahrscheinlich zu gering, um einen spürbaren Unterschied zu machen.\n",
    "    df = pd.read_csv(dateiname, encoding='utf-8', delimiter=';')\n",
    "\n",
    "    # Suche nach der Gemeinde, die der gegebenen PLZ entspricht.\n",
    "    gemeinde = df[df['PLZ'] == int(plz)]['Gemeindename'].values\n",
    "\n",
    "    # Wenn eine Gemeinde gefunden wird, wird ihr Name zurückgegeben.\n",
    "    if len(gemeinde) > 0:\n",
    "        return gemeinde[0]\n",
    "    # Wenn keine Gemeinde gefunden wird, wird None zurückgegeben.\n",
    "    else:\n",
    "        return None\n",
    "\n",
    "# Das ursprüngliche Dictionary mit den Hochschuldaten.\n",
    "colleges = data_dict\n",
    "\n",
    "# Eine leere Liste, um die aktualisierten Hochschuldaten zu speichern.\n",
    "updated_colleges = []\n",
    "\n",
    "# Durch jeden Eintrag im colleges-Dictionary iterieren.\n",
    "for college in colleges:\n",
    "    # Überprüfen, ob der Stadtnamen \"Unknown City\" hat.\n",
    "    if college['city'] == \"Unknown City\":\n",
    "        plz = college['zipcode']\n",
    "        # Die Gemeinde basierend auf der PLZ suchen.\n",
    "        city_name = finde_gemeinde(plz)\n",
    "        # Wenn eine gültige Gemeinde gefunden wird, wird der Stadtnamen im college-Eintrag aktualisiert und der aktualisierte Eintrag wird der updated_colleges-Liste hinzugefügt.\n",
    "        if city_name:\n",
    "            college['city'] = city_name\n",
    "            updated_colleges.append(college)\n",
    "    # Wenn der Stadtnamen bereits bekannt ist, wird der Eintrag unverändert der updated_colleges-Liste hinzugefügt.\n",
    "    else:\n",
    "        updated_colleges.append(college)\n",
    "\n",
    "# Das aktualisierte Dictionary wird in data_dict gespeichert.\n",
    "data_dict = updated_colleges\n",
    "\n"
   ],
   "metadata": {
    "collapsed": false,
    "ExecuteTime": {
     "end_time": "2023-10-29T11:59:49.052213956Z",
     "start_time": "2023-10-29T11:59:48.156595759Z"
    }
   },
   "id": "396d8af19c26404a"
  },
  {
   "cell_type": "code",
   "execution_count": 7,
   "outputs": [
    {
     "name": "stdout",
     "output_type": "stream",
     "text": [
      "'Unknown City' erscheint 0 Mal in der colleges_clean.json Datei.\n"
     ]
    }
   ],
   "source": [
    "\n",
    "colleges_clean = data_dict\n",
    "# Zählen, wie oft \"Unknown City\" vorkommt\n",
    "unknown_city_count = sum(1 for college in colleges_clean if college['city'] == \"Unknown City\")\n",
    "\n",
    "print(f\"'Unknown City' erscheint {unknown_city_count} Mal in der colleges_clean.json Datei.\")\n"
   ],
   "metadata": {
    "collapsed": false,
    "ExecuteTime": {
     "end_time": "2023-10-29T11:59:49.054534461Z",
     "start_time": "2023-10-29T11:59:49.052835808Z"
    }
   },
   "id": "8f2f8c201330358d"
  },
  {
   "cell_type": "code",
   "execution_count": 8,
   "outputs": [],
   "source": [
    "import json\n",
    "\n",
    "def simplify_string(s):\n",
    "    \"\"\"\n",
    "    Diese Funktion nimmt einen String `s` entgegen und entfernt bestimmte HTML-Tags, um den String zu vereinfachen.\n",
    "\n",
    "    :param s: Der Eingabe-String, der bearbeitet werden soll.\n",
    "    :return: Ein vereinfachter String ohne bestimmte HTML-Tags.\n",
    "    \"\"\"\n",
    "\n",
    "    # Den Startindex für den zu entfernenden Bereich finden. Dieser liegt direkt nach dem ersten \"<i>\"-Tag.\n",
    "    start_index = s.find('<i>') + 3\n",
    "\n",
    "    # Den Endindex für den zu entfernenden Bereich finden. Dieser liegt direkt vor dem ersten \"</i>\"-Tag.\n",
    "    end_index = s.find('</i>')\n",
    "\n",
    "    # Den Bereich zwischen den \"<i>\" und \"</i>\"-Tags aus dem String entfernen.\n",
    "    result = s.replace(s[start_index:end_index], '')\n",
    "\n",
    "    # Alle \"<b>\" und \"</b>\"-Tags aus dem resultierenden String entfernen.\n",
    "    result = result.replace('<b>', '').replace('</b>', '').replace('<i>', '').replace('</i>','')\n",
    "\n",
    "    # Den bereinigten String zurückgeben, nachdem überflüssige Leerzeichen entfernt wurden.\n",
    "    return result.strip()\n",
    "\n",
    "def clean_labels_in_json(data_dict, file_path=None):\n",
    "    \"\"\"\n",
    "    Diese Funktion nimmt ein Dictionary `data_dict` oder einen Dateipfad `file_path` zu einer JSON-Datei entgegen und\n",
    "    bereinigt die 'label'-Einträge in jedem Element des JSON.\n",
    "\n",
    "    :param data_dict: Das Eingabe-Dictionary, das bearbeitet werden soll.\n",
    "    :param file_path: Der Pfad zur JSON-Datei, die bearbeitet werden soll.\n",
    "    :return: Ein bereinigtes Dictionary.\n",
    "    \"\"\"\n",
    "\n",
    "    # Wenn ein Dateipfad angegeben wurde, wird die JSON-Datei geöffnet und als Dictionary geladen.\n",
    "    if file_path is not None:\n",
    "        with open(file_path, 'r', encoding='utf-8') as file:\n",
    "            data = json.load(file)\n",
    "    else:\n",
    "        # Wenn kein Dateipfad angegeben wurde, wird das übergebene Dictionary verwendet.\n",
    "        data = data_dict\n",
    "\n",
    "    # Über jedes Element im Dictionary iterieren.\n",
    "    for item in data:\n",
    "        # Den 'label'-Eintrag des aktuellen Elements mit der `simplify_string`-Funktion bereinigen.\n",
    "        item['label'] = simplify_string(item['label'])\n",
    "\n",
    "    # Das bereinigte Dictionary zurückgeben.\n",
    "    return data\n",
    "\n",
    "# Die `clean_labels_in_json`-Funktion wird auf das `data_dict` angewendet, um die 'label'-Einträge zu bereinigen.\n",
    "data_dict = clean_labels_in_json(data_dict)\n"
   ],
   "metadata": {
    "collapsed": false,
    "ExecuteTime": {
     "end_time": "2023-10-29T11:59:49.104438259Z",
     "start_time": "2023-10-29T11:59:49.057515581Z"
    }
   },
   "id": "ef7ac373e0971231"
  },
  {
   "cell_type": "code",
   "execution_count": 9,
   "outputs": [],
   "source": [
    "# Specify the path where you want to save the JSON file\n",
    "output_path = 'colleges_clean.json'\n",
    "\n",
    "# Save the dictionary as a JSON file\n",
    "with open(output_path, 'w', encoding='utf-8') as file:\n",
    "    json.dump(data_dict, file, indent=4, ensure_ascii=False)"
   ],
   "metadata": {
    "collapsed": false,
    "ExecuteTime": {
     "end_time": "2023-10-29T11:59:49.104955213Z",
     "start_time": "2023-10-29T11:59:49.104313193Z"
    }
   },
   "id": "3bc5c7a73a801ce0"
  },
  {
   "cell_type": "code",
   "execution_count": 9,
   "outputs": [],
   "source": [],
   "metadata": {
    "collapsed": false,
    "ExecuteTime": {
     "end_time": "2023-10-29T11:59:49.105649803Z",
     "start_time": "2023-10-29T11:59:49.104771928Z"
    }
   },
   "id": "d8cfb7e5dc02b446"
  }
 ],
 "metadata": {
  "kernelspec": {
   "display_name": "Python 3 (ipykernel)",
   "language": "python",
   "name": "python3"
  },
  "language_info": {
   "codemirror_mode": {
    "name": "ipython",
    "version": 3
   },
   "file_extension": ".py",
   "mimetype": "text/x-python",
   "name": "python",
   "nbconvert_exporter": "python",
   "pygments_lexer": "ipython3",
   "version": "3.9.12"
  }
 },
 "nbformat": 4,
 "nbformat_minor": 5
}
