{
 "cells": [
  {
   "cell_type": "code",
   "execution_count": 38,
   "id": "205dc82d-14c0-4279-871a-f19f4c8174ed",
   "metadata": {},
   "outputs": [],
   "source": [
    "import json\n",
    "import pandas as pd\n",
    "from pandas import json_normalize\n",
    "\n",
    "# Load the JSON data\n",
    "with open('C:/Users/aober/Documents/Data Science Studium/3Semester/SoftwareProject3/PM3_1/data/masterjson.json', 'r') as file:\n",
    "    data = json.load(file)\n"
   ]
  },
  {
   "cell_type": "code",
   "execution_count": 39,
   "id": "1b1fa93a-340e-466e-9e32-f7519ae70dbd",
   "metadata": {},
   "outputs": [],
   "source": [
    "for item in data['results']:\n",
    "    # Merge the attributes from 'attrs' into the main item\n",
    "    item.update(item['attrs'])\n",
    "    # Delete the now unnecessary keys\n",
    "    del item['attrs']\n",
    "    del item['id']\n",
    "    del item['weight']\n",
    "    del item['geom_quadindex']\n",
    "    del item['geom_st_box2d']\n",
    "    del item['origin']\n",
    "    del item['rank']\n",
    "    del item['x']\n",
    "    del item['y']\n",
    "    del item['zoomlevel']\n",
    "    del item['num']\n",
    "    del item['detail']"
   ]
  },
  {
   "cell_type": "code",
   "execution_count": 40,
   "id": "0981ba42-899d-4dc8-8e26-074affea336a",
   "metadata": {},
   "outputs": [
    {
     "name": "stdout",
     "output_type": "stream",
     "text": [
      "Index(['label', 'lat', 'lon', 'objectclass', 'Kategorie', 'schoolshort',\n",
      "       'name', 'quarter', 'city', 'address', 'zipcode'],\n",
      "      dtype='object')\n"
     ]
    }
   ],
   "source": [
    "nodes_data = data['results']\n",
    "\n",
    "# Convert to DataFrame\n",
    "df = pd.DataFrame(nodes_data)\n",
    "\n",
    "print(df.columns)\n"
   ]
  },
  {
   "cell_type": "code",
   "execution_count": 52,
   "id": "3550b4e1-fd61-43ca-870f-d24653a3c71c",
   "metadata": {},
   "outputs": [],
   "source": [
    "data_dict = df.to_dict(orient='records')\n",
    "\n",
    "# Specify the path where you want to save the JSON file\n",
    "output_path = 'C:/Users/aober/Documents/Data Science Studium/3Semester/SoftwareProject3/PM3_1/data/colleges.json'\n",
    "\n",
    "# Save the dictionary as a JSON file\n",
    "with open(output_path, 'w', encoding='utf-8') as file:\n",
    "    json.dump(data_dict, file, indent=4, ensure_ascii=False)"
   ]
  },
  {
   "cell_type": "code",
   "execution_count": null,
   "id": "d2a92d1c-2f7b-4650-b843-0db3f9116fed",
   "metadata": {},
   "outputs": [],
   "source": []
  }
 ],
 "metadata": {
  "kernelspec": {
   "display_name": "Python 3 (ipykernel)",
   "language": "python",
   "name": "python3"
  },
  "language_info": {
   "codemirror_mode": {
    "name": "ipython",
    "version": 3
   },
   "file_extension": ".py",
   "mimetype": "text/x-python",
   "name": "python",
   "nbconvert_exporter": "python",
   "pygments_lexer": "ipython3",
   "version": "3.9.12"
  }
 },
 "nbformat": 4,
 "nbformat_minor": 5
}
