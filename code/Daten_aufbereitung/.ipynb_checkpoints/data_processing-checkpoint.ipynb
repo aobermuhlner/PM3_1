{
 "cells": [
  {
   "cell_type": "code",
   "execution_count": 3,
   "id": "6b2cdc98-57ae-43a8-8b34-a0d75088c03f",
   "metadata": {},
   "outputs": [],
   "source": [
    "import json\n",
    "import pandas as pd\n",
    "from pandas import json_normalize\n",
    "\n",
    "# Load the JSON data\n",
    "with open('C:/Users/aober/Documents/Data Science Studium/3Semester/SoftwareProject3/osm-output/osm-output.json', 'r') as file:\n",
    "    data = json.load(file)\n",
    "    \n",
    "\n",
    "with open('C:/Users/aober/Documents/Data Science Studium/3Semester/SoftwareProject3/PM3_1/data/colleges.json', 'r') as file:\n",
    "    colleges_data = json.load(file)\n"
   ]
  },
  {
   "cell_type": "code",
   "execution_count": 4,
   "id": "76ae0407-7b0a-4b60-88bd-86c45682952b",
   "metadata": {
    "tags": []
   },
   "outputs": [],
   "source": [
    "nodes_data = data['nodes']\n",
    "\n",
    "# Convert to DataFrame\n",
    "df = pd.DataFrame(nodes_data)\n",
    "\n",
    "colleges_df = pd.DataFrame(colleges_data)\n"
   ]
  },
  {
   "cell_type": "code",
   "execution_count": 5,
   "id": "2924f263-fc85-4674-b97e-c0e25d74281e",
   "metadata": {},
   "outputs": [
    {
     "name": "stdout",
     "output_type": "stream",
     "text": [
      "['fuel', 'cinema', 'parking', 'pub', 'cafe', 'fast_food', 'restaurant', 'bench', 'bank', 'post_office', 'bicycle_parking', 'recycling', 'ferry_terminal', 'parking_entrance', 'place_of_worship', 'theatre', 'vending_machine', 'bar', 'police', 'atm', 'kindergarten', 'toilets', 'clinic', 'library', 'post_box', 'university', 'school', 'townhall', 'fire_station', 'public_bath', 'fountain', 'drinking_water', 'pharmacy', 'waste_basket', 'social_facility', 'community_centre', 'doctors', 'telephone', 'compressed_air', 'college', 'repair', 'nightclub', 'bbq', 'hunting_stand', 'music_venue', 'bus_station', 'ticket_booth', 'taxi', 'biergarten', 'childcare', 'public_bookcase', 'ice_cream', 'watering_place', 'foresthouse', 'shelter', 'veterinary', 'car_rental', 'bicycle_rental', 'public_building', 'nursing_home', 'grave_yard', 'waste_disposal', 'events_venue', 'motorcycle_parking', 'courthouse', 'money_transfer', 'studio', 'bureau_de_change', 'car_wash', 'nightclub;pub', 'ski_school', 'water_point', 'parking_space', 'car_sharing', 'toy_library', 'dentist', 'disused:parking', 'meeting_point;clock', 'boat_rental', 'grit_bin', 'social_centre', 'customs', 'music_school', 'arts_centre', 'brothel', 'workshop', 'clock', 'shower', 'post_office;post_box', 'stripclub', 'fitness_trail', 'lounger', 'food_court', 'basic_hut', 'gambling', 'Startplatz', 'spiritual_centre', 'coworking_space', 'conference_centre', 'photo_booth', 'brewery', 'casino', 'carpenter', 'industrie', 'cheesery', 'rest place', 'yes', 'medecin', 'charging_station', 'ski_rental', 'driving_school', 'sports', 'games_library', 'wifi', 'animal_shelter', 'reservoir', 'rue des petites fontaines', 'dive_centre', 'kneipp_water_cure', 'meetingpoint', 'dojo', 'shelter;fountain', 'prison', 'place_of_worship;bench', 'gallery', 'infoshop', 'marketplace', 'public_hall', 'clothes', 'shoes', 'flower', 'post_depot', 'baking_oven', 'deaddrop', 'waste_basket;vending_machine', 'wifihotspot', 'cooking_school', 'disused:restaurant', 'retirement_home', 'muster_point', 'exhibition_centre', 'photo_automatic', 'lockers', 'aged_care', 'beauty', 'education', 'language_school', 'scale', 'bicycle_repair_station', 'reception_desk', 'sanitary_dump_station', 'lost_property_office', 'archive', 'ticket_validator', 'locker', 'planetarium', 'training', 'parking;restaurant', 'water', 'loading_dock', 'parking_exit', 'bar_lounge', 'mushroom_control', 'animal_boarding', 'civil_defence_facility_entrance', 'spa', 'vacuum_cleaner', 'barn', 'arrival', 'check_in', 'waste_transfer_station', 'stables', 'gambling_hall', 'stripclub;brothel', 'mortuary', 'dog_training', 'boat_storage', 'meeting_point', 'fixme', 'parcel_locker', 'Music_venue', 'boat_sharing', 'harbourmaster', 'vehicle_ramp', 'bicycle_wash', 'hookah_lounge', 'perfume', 'lavoir', 'congress_center', 'swingerclub', 'fablab', 'weighbridge', 'elevator', 'bar;restaurant', 'table', 'restaurant;pharmacy', 'convenience', 'boat_wash', 'drinking_water;bench', 'daycare', 'rescue_station', 'orchestra', 'sun_clock', 'hospital', 'funeral_hall', 'reception_point', 'disused:cafe', 'office', 'culture_center', 'mobile_library', 'kitchen', 'lockbox', 'bench;waste_basket', 'tourism', 'medical_centre', 'caravan_rental', 'adult_cinema', 'clubhouse', 'baby_hatch', 'love_hotel', 'animal_training', 'festival_grounds', 'luggage_locker', 'hackerspace', 'car_rental;parking;taxi', 'research_institute', 'water_tap', 'thermometer; barometer; hygrometer', 'monastery', 'payment_terminal', 'student_accommodation', 'charging_point', 'stage', 'crematorium', 'restaurant;bar', 'internet_cafe', 'binoculars', 'ergotherapist', 'wildlife_feeding', 'toilets;library', 'room_design', 'prep_school', 'dressing_room', 'smoking_area', 'crypt', 'financial_advice', 'printer', 'amusement_arcade', 'sport_school', 'dancing_school', 'tourist_bus_parking', 'bell', 'device_charging_station', 'food_sharing', 'letter_box', 'laundry_lockers', 'tuition', 'bus_stop', 'vending_machine;waste_basket', 'sailing_school', 'place_of_mourning', 'vehicle_inspection', 'wildlife_hide', 'grill', 'fire_pit', 'kick_scooter_parking', 'give_box', 'hammock', 'disused:drinking_water', 'road_maintenance_depot', 'cafe;bakery', 'animal_breeding', 'building_yard', 'payment_centre', 'watering_place;drinking_water', 'Electronics Engineering', 'electricity', 'polling_station', 'canteen', 'security_control', 'art_school', 'escooter_parking', 'maintenance_depot', 'bar;fast_food', 'agricultural_engines', 'chair', 'po_box', 'bicycle_charging_station', 'book_return', 'trolley_bay', 'scuba_diving', 'road_maintenance', 'nest_box', 'entrance', 'sink', 'hall', 'bicycle_parking;motorcycle_parking', 'restaurant;cafe', 'avalanche_transceiver', 'driver_training', 'lounge', 'po_boxes', 'firewood', 'waiting_room', 'residential', 'labor', 'power_supply', 'nursery_school', 'playgroup', 'rental', 'health_post', 'circus_school', 'skatepark', 'healthcare', 'ranger_station', 'brine_filling_station', 'money_transfer_machine', 'library_dropoff', 'washing_machine', 'dryer', 'warehouse', 'orthopedic', 'test_center', 'mobile_money_agent', 'theater_school', 'laboratory', 'motorcycle_rental', 'music', 'kindergarten;school', 'snowboard_repair_station', 'checkout', 'air_vent', 'concert_hall']\n"
     ]
    }
   ],
   "source": [
    "# SHow all amenities\n",
    "unique_amenities = df['amenity'].unique()\n",
    "print(list(unique_amenities))\n"
   ]
  },
  {
   "cell_type": "code",
   "execution_count": 6,
   "id": "2b11f7e1-8d1b-4dc8-b019-66ff0b501fad",
   "metadata": {
    "tags": []
   },
   "outputs": [
    {
     "name": "stdout",
     "output_type": "stream",
     "text": [
      "[nan, 'Intschi', 'Altdorf UR', 'Flüelen', 'Dübendorf', 'Zürich', 'Winterthur', 'Bern', 'Neuhausen am Rheinfall', 'Kiental', 'Bremgarten bei Bern', 'Obstalden', 'Näfels', 'Versoix', 'Uznach', 'Genève', 'Olten', 'Filzbach', 'Schmerikon', 'Stäfa', 'Stein am Rhein', 'Grüningen', 'Isole di Brissago', 'Egg', 'Basel', 'Dagmersellen', 'Wallisellen', 'Kriens', 'Schaffhausen', 'Kemptthal', 'Netstal', 'Volketswil', 'Sihlbrugg', 'Bachenbülach', 'Buchberg', 'Dottikon', 'Bülach', 'Würenlos', 'Meikirch', 'Benken SG', 'Horgen', 'Maienfeld', 'Kandersteg', 'Oberägeri/Morgarten', 'Zwischenflüh', 'Erlenbach', 'Langenthal', 'Gommiswald', 'Weiningen TG', 'Hundwil', 'Baden', 'Disentis/Mustér', 'Ramsen', 'Binningen', 'Herzogenbuchsee', 'Wildhaus', 'Fällanden', 'Wil SG', 'Niederweningen', 'Schöfflisdorf', 'Weinfelden', 'Deitingen', 'Morges', 'Lenzerheide', 'Chavannes-près-Renens', 'Prilly', 'Lausanne', 'Seengen', 'Mattstetten', 'Wangen (SZ)', 'Meiringen', 'Horw', 'Zeihen', 'Luzern', 'Stammheim', 'Lyss', 'Cannobio', 'Luino', 'Cannero Riviera', 'Meilen', 'Wetzikon', 'St. Gallen', 'Bremgarten', 'Vico Morcote', 'Altishofen', 'Biel/Bienne', 'Dietlikon', 'Egg b. Zürich', 'Paudex', 'Pfyn', 'La Chaux-de-Fonds', 'Boudry', 'Dättwil', 'Lutry', 'Crissier', 'Dättwil AG', 'Pully', 'Embrach', 'Göschenen', 'Aarau', 'Sursee', 'Zell LU', 'Rapperswil (SG)', 'Regensdorf', 'Yverdon-les-Bains', 'Uster', 'Ecublens (VD)', 'Allschwil', 'Eschenz', 'Stans', 'Tuggen', 'Satigny', 'Buttisholz', 'Rapperswil SG', 'Verbania', 'Seewen', 'Brülisau', 'Herisau', 'Mönchaltorf', 'Allenwinden', 'Düdingen', 'Reinach BL', 'Reinach (BL)', 'Ettingen', 'Münchenstein', 'Oberentfelden', 'Mettmenstetten', 'Boswil', 'Ottikon', 'Hagneck', 'Aesch', 'St-Ursanne', 'Brünig', 'Siebnen', 'Dierikon', 'Jona', 'Laufenburg', 'Dornach', 'Oberburg', 'Villars-sur-Ollon', 'Kernenried', 'Ittigen', 'Freienbach', 'Monthey', 'Ollon', 'Richterswil', 'San Bernardino', 'Belp', 'Giswil', 'Court', 'Oetwil am See', 'La Sarraz', 'Pfäffikon (SZ)', 'Wabern', 'Köniz', 'Bristen', 'Breitenbach', 'Meyrin', 'Schwarzenburg', 'Grenchen', 'Bussigny', 'Ostermundigen', 'Mühlethurnen', 'Brienz', 'Wald', 'Liebefeld', 'Les Diablerets', 'Büsserach', \"Vers-l'Eglise\", 'Schwyz', 'Rapperswil-Jona', 'Oberriet', 'Vessy', 'Büren an der Aarea', 'Reinach', 'Riffenmatt', 'Bolligen', 'Schiers', 'Giebenach', 'Kreuzlingen', 'Icogne', 'Rümlang', 'Sissach', 'Renens (VD)', 'Konstanz', 'Engelberg', 'Kloten', 'Fribourg', 'Emmen', 'Andermatt', 'Allensbach', 'Hölstein', 'Donneloye', 'Troinex', 'Wädenswil', 'Langnau am Albis', 'Horn', 'Bronschhofen', 'Diegten', 'Arlesheim', 'Grindelwald', 'Urnäsch', 'Kaltbrunn', 'Lauterbrunnen', 'Bargen', 'Bargen SH', 'Schindellegi', 'Fehraltorf', 'Pfäffikon ZH', 'Brugg', 'Solothurn', 'Adetswil', 'Uettligen', 'Obbürgen', 'Turbenthal', 'Bauma', 'Pfäffikon', 'Thun', 'Buchs', 'Worb', 'Bergün/Bravuogn', 'Buchs ZH', 'Zollikofen', 'Aathal-Seegräben', 'Bassersdorf', 'Suberg', 'Studen BE', 'Gais', 'Russikon', 'Verbier', 'Echallens', 'Effretikon', 'Ipsach', 'Môtiers', 'Laveno', 'Eigenthal', 'Englisberg', 'Niedermuhlern', 'Laupen', 'Murten', 'Neuenhof', 'Saint-Bartélémy', 'Tesserete', 'Oftringen', 'Epalinges', 'Root', 'Poschiavo', 'Bursinel', 'Li Curt', 'Niederhasli', 'Würenlingen', 'Riniken', 'Les Ponts-de-Martel', 'Zermatt', 'Brügg BE', 'Studen', 'Büren an der Aare', 'Rotkreuz', 'Unterägeri', 'Münsingen', 'Le Châble', 'Greifensee', 'Farnern', 'Neukirch (Egnach)', 'Buchs (AG)', 'Vugelles-la-Mothe', 'Rieden', 'Winkel', 'Ebikon', 'Auslikon', 'Sonceboz-Sombeval', 'Oberhasli', 'Erlach', 'Emmenbrücke', 'Veyrier', 'La Croix-de-Rozon', 'Affoltern am Albis', 'Ehrendingen', 'Ottenbach', 'Oberegg', 'Münchenbuchsee', 'Baar', 'Zug', 'Degersheim', 'Dürnten', 'Ovronnaz', 'Leytron', 'Lugano', 'Begnins', 'Lustenau', 'Oberiberg', 'Cheseaux-sur-Lausanne', 'St.Gallen', 'Aadorf', 'Aarberg', 'Aarburg', 'Adligenswil', 'Aesch (BL)', 'Affoltern a.A.', 'Aigle', 'Alpnach', 'Andelfingen', 'Amriswil', 'Arbon', 'Appenzell', 'Arth', 'Bad Ragaz', 'Beinwil a. See', 'Bellinzona', 'Bellevue', 'Bätterkinden', 'Berikon', 'Bettingen', 'Bever', 'Biasca', 'Biberstein', 'Bernex', 'Beromünster', 'Birmensdorf (ZH)', 'Boll-Utzigen', 'Birsfelden', 'Biel / Bienne', 'Bubendorf', 'Buchrain', 'Buchs (ZH)', 'Bottmingen', 'Bonstetten', 'Brig', 'Burgdorf', 'Cadenazzo', 'Bussigny-près-Lausanne', 'Buchs (SG)', 'Confignon', 'Dachsen', 'Davos', 'Chur', 'Comano', 'Cham', 'Chêne-Bourg', 'Carouge (GE)', 'Domat / Ems', 'Dietikon', 'Dielsdorf', 'Delémont', 'Einsiedeln', 'Elgg', 'Egg (ZH)', 'Eglisau', 'Ebnat-Kappel', 'Forch', 'Flawil', 'Fislisbach', 'Frenkendorf', 'Freienwil', 'Frauenfeld', 'Frick', 'Erlenbach (ZH)', 'Entlebuch', 'Erlinsbach (SO)', 'Erstfeld', 'Gisikon', 'Gland', 'Giubiasco', 'Frutigen', 'Gelterkinden', 'Heerbrugg', 'Hedingen', 'Hausen am Albis', 'Hasle - Rüegsau', 'Hilterfingen / Oberhofen', 'Hettlingen', 'Herrliberg', 'Herrenschwanden', 'Grand-Lancy (GE)', 'Grand-Saconnex', 'Grabs', 'Gossau (SG)', 'Goldach', 'Gümligen', 'Gunten', 'Grüt', 'Gränichen', 'Interlaken', 'Ittigen (BE)', 'Huttwil', 'Ins', 'Illnau', 'Kehrsatz', 'Kaiseraugst', 'Jegenstorf', 'Hofstetten-Flüh', 'Hombrechtikon', 'Hinwil', 'Hitzkirch', 'Hünenberg See', 'Küsnacht (ZH)', 'Küttigen', 'Küssnacht am Rigi', 'Konolfingen', 'Knonau', 'Killwangen', 'Kilchberg (ZH)', 'Kerzers', 'Klosters', 'Kirchlindach', 'Laufen', 'Langnau i.E.', 'Laupen (BE)', 'Lachen (SZ)', 'La Tour-de-Peilz', 'Langendorf', 'Landquart', 'Langnau a.A.', 'Locarno', 'Littau', 'Ligerz', 'Liestal', 'Leuk', 'Le Locle', 'Männedorf', 'Muttenz', 'Murten/Morat', 'Münsterlingen', 'Neuenkirch', 'Neuchâtel', 'Nänikon', 'Niederglatt', 'Nidau', 'Nyon', 'Nussbaumen', 'Martigny', 'Maur', 'Meggen', 'Marthalen', 'Mittelhäusern', 'Menzingen', 'Montreux', 'Pratteln', 'Rafz', 'Rehetobel', 'Reinach (AG)', 'Rheinfelden', 'Reussbühl', 'Riehen', 'Rodersdorf', 'Rikon im Tösstal', 'Rifferswil', 'Romanshorn', 'Rolle', 'Rohr', 'Roggwil (BE)', 'Oberglatt', 'Oberkirch', 'Oberrieden', 'Oberwil (BL)', 'Oberwil (ZG)', 'Obfelden', 'Onex', 'Opfikon', 'Palézieux', 'Pfaffhausen', 'Pieterlen', 'Pfäffikon (ZH)', 'Porrentruy', 'Plan-les-Ouates', 'Sempach', 'Scuol', 'Schwerzenbach', 'Schüpfen', 'Schönenwerd', 'Schöftland', 'Schmitten', 'Spiez', 'Sion', 'Sierre / Siders', 'Rüti (ZH)', 'Sachseln', 'Saas-Fee', 'Rüschlikon', 'Ruswil', 'Rothenburg', 'Rombach', 'Rorschach', 'Schliern b. Köniz', 'Schattdorf', 'Sargans', 'Sarnen', 'Suhr', 'Steinhausen', 'Strengelbach', 'Stettlen', 'Trimbach', 'Thusis', 'Toffen', 'Thalwil', 'Tenero', 'Teufen', 'Steffisburg', 'Engelburg', 'St. Moritz', 'Wettingen', 'Wattwil', 'Wetzikon (ZH)', 'Wiesendangen', 'Wichtrach', 'Visp', 'Wald (ZH)', 'Vevey', 'Utzenstorf', 'Uetendorf', 'Uetikon am See', 'Turgi', 'Trogen', 'Urdorf', 'Unterengstringen', 'Zofingen', 'Ziegelbrücke', 'Zollikon', 'Wittenbach', 'Wohlen (AG)', 'Wohlen bei Bern', 'Wolhusen', 'Willisau', 'Windisch', 'Zumikon', 'Zweisimmen', 'Uzwil', 'Rüti', 'Rüti ZH', 'Bubikon', 'Cortaillod', 'Zwillikon', 'Renens', 'Neuägeri', 'Ebmatingen', 'Walchwil', 'Samedan', 'Lenzerheide/Lai', 'Hadlikon', 'Adlikon', 'Tann', 'Füllinsdorf', 'Glattbrugg', 'Lörrach', 'Hermatswil', 'Bulle', 'Morlon', 'Nunningen', 'Steg VS', 'Herrenhof', 'Peseux', 'Samnaun', 'Lobsigen', 'Au SG', 'Au', 'Grellingen', 'Blankenburg', 'Schönried', 'Vals', 'Gutenburg', 'Haldenstein', 'Brunnen', 'Viganello', 'Hauterive NE', 'Büron', 'Treyvaux', 'Silvaplana', 'Corbières', 'Broc', 'Stühlingen', 'Saint-Blaise', 'Otelfingen', 'Châtelaine', 'Romont', 'Romont (FR)', 'Kleine Scheidegg', 'Jenins', 'Kilchberg', 'Worblaufen', 'Frauenkappelen', 'Hüttikon', 'Griementz', 'Grimentz', 'Oberengstringen', 'Mühleberg', 'Grafstal/Kempttal', 'Grosswangen', 'Inwil', 'Zürich-Flughafen', 'Heiden', 'Berlens', 'Niederstetten', 'Jongny', 'Mellingen', 'Wohlenschwil', 'Wagen', 'Münchwilen', 'Sugiez', 'Bioggio', 'Binz', 'Münchwilen TG', 'Wolfhausen', 'Remetschwil', 'Magden', 'Muri (AG)', 'Sirnach', 'Moudon', 'Oron-la-Ville', 'Cully', 'Flüeli', 'Adelboden', 'Hünenberg', 'Oberägeri', 'Ascona', 'Unterlangenegg', 'Conthey', 'Belmont-sur-Lausanne', 'Villeneuve', 'Pregassona', 'Glattpark (Opfikon)', 'Bremgarten AG', 'Niederbüren', 'Plasselb', 'Sonvico', 'Romainmôtier', 'Ospizio Bernina', 'Bretonnières', 'Adliswil', 'Ried-Brig', 'Bad Säckingen', 'Goumoens-la-Ville', \"Château-d'Oex\", 'Allaman', 'Saint-Cergue', 'Torgon', 'Cointrin', 'Cuarnens', 'Oberembrach', 'Lavigny', 'Carouge', 'Wangen SZ', 'Wangen', 'Savigny', 'Davos Wolfgang', 'Eggiwil', 'Erlinsbach', 'Urtenen-Schönbühl', 'Erlinsbach SO', 'Weiningen', 'Lausanne-Dorigny', 'Les Breuleux', 'Brissago', 'Feusisberg', 'Plaffeien', 'Thierachern', 'Altstätten', 'Wängi', 'Tafers', 'Waldshut-Tiengen', 'Wohlen', 'Uttigen', 'Bex', 'Diepoldsau', 'Gelterfingen', 'Dällikon', 'Giffers', 'Hochdorf', 'Döttingen', 'Sankt Gallen', 'Koblenz', 'Bernhardzell', 'Röthenbach im Emmental', 'Le Grand-Saconnex', 'St. Stephan', 'Boltigen', 'Riva San Vitale', 'Veytaux', 'Leibstadt', 'Diessenhofen', 'Laufenburg (Baden)', 'Siglistorf', 'Unteriberg', 'Emmetten', 'Orsonnens', 'Ursy', 'Châtel-St-Denis', 'Riederalp', 'Tägerwilen', 'Illighausen', 'Effingen', 'Tenniken', 'Bänikon', 'Ossingen', 'Nussbaumen bei Baden', 'Brè sopra Lugano', 'Le Landeron', 'Pfäffikon SZ', 'Blonay', 'Oberdorf', 'Frasnacht', 'Klöntal', 'Le Mouret', 'Eschenbach SG', 'Corcelles', 'Rosswald', 'Pfungen', 'Matten bei Interlaken', 'Lüchingen', 'Sfazû', 'Wollerau', 'Leukerbad', 'Payerne', 'Zinal', 'Hohentengen am Hochrhein', 'Gelfingen', 'Cheyres', 'Diemerswil', 'Orbe', 'Bassins', 'Font', 'Müllheim', 'Müllheim Dorf', 'Muntelier', 'Lantsch/Lenz', 'Uttwil', 'Küsnacht', 'Münchwilen (TG)', 'Samstagern', 'St-Aubin', 'Schwellbrunn', 'Saint-Légier-La Chiésaz', 'Zweidlen-Glattfelden', 'Freienstein-Teufen', 'Bosco/Gurin', 'Zuoz', 'Liddes', 'Habsburg', 'Birmensdorf', 'Schönengrund', 'Altendorf', 'Wasen im Emmental', 'Pfäfers', 'Widnau', 'Steg im Tösstal', 'Schwörstadt', 'Augst', 'Matten', 'Wil', 'Petit-Lancy', 'Luzern 6', 'Kölliken', 'Neerach', 'Bourg Saint-Pierre', 'Seelisberg', 'Hinterkappelen', 'Cugy FR', 'Bergdietikon', 'Rheinwald', 'Hirzel', 'Lachen', 'Carona', 'Niederrohrdorf', 'Kienberg', 'Untersiggenthal', 'Moosseedorf', 'St. Erhard', 'Holderbank AG', 'Gampel', 'Gals', 'Hefenhausen', 'Lipperswil', 'Ormont-Dessus', 'Wildegg', 'Sta. Maria Val Müstair', 'Ettiswil', 'Rothrist', 'Domat/Ems', 'Täuffelen', 'Meierskappel', 'Zurzach', 'St. Silvester', 'Therwil', 'Dallenwil', 'Archamps', 'Schneisingen', 'Bettlach', 'Schmidrüti', 'Amsteg', 'Dittingen', 'Wald ZH', 'Champoussin', 'Grand-Lancy', 'Seedorf UR', 'Rueras', 'Etoy', 'Holzhäusern', 'Rougemont', 'Obersaxen', 'Altdorf (UR)', 'Duggingen', 'Eschenbach', 'Baden-Dättwil', 'Auvernier', 'Caslano', 'Petit Vichères (Liddes)', 'Zuchwil', 'Muralto', 'Schleitheim', 'Full-Reuenthal', 'Celerina / Schlarigna', 'Celerina/Schlarigna', 'Celerina', 'Immensee', 'Gockhausen', 'Bürglen UR', 'Lungern', 'Riedholz', 'Cavigliano', 'Arzier-Le muids', 'Merlischachen', 'Kaltenbach', 'Spreitenbach', 'Coldrerio', 'Müstair', 'Arzier-Le Muids', 'Cevio', 'Bignasco', 'Lotzwil', 'Cavergno', 'Niederlenz', 'Balgach', 'Aurigeno', 'Arosa', 'Castel San Pietro', 'Walperswil', 'Worben', 'Flühli LU', 'Thônex', 'Vernier', 'Wiler bei Seedorf', 'Marin-Epagnier', 'Hunzenschwil', 'Speicherschwendi', 'Airolo', 'Oberlunkhofen', 'Calonico', 'Lavorgo', 'Cavagnago', 'Lachen SZ', 'Port-Valais', 'Tramelan', 'Yvonand', 'Ferney-Voltaire', 'Orselina', 'Hittnau', 'Faoug', 'Neunkirch', 'Orsières', 'Ornières', 'Weissbad', 'Widen', 'Courtepin', 'Hurden', 'Malvaglia', 'Corbeyrier', 'Magadino', 'Laupersdorf', 'Minusio', 'Losone', 'Vouvry', 'Menziken', 'Gurmels', 'Gandria', 'Gwatt', 'Wiler (Lötschen)', 'Wünnewil-Flamatt', 'Savognin', 'Sainte-Croix', 'Mamishaus', 'Miglieglia', 'Le Châble VS', 'Isone', 'Peney-Dessus', 'Hospental', 'Maloja', 'Leysin', 'Grächen', 'Cormagens', 'Tschlin', 'Spiegel b. Bern', 'Saignelégier', 'Wettswil', 'Birrwil', 'Turtmann', 'Ftan', 'Safenwil', 'Zernez', 'Morbio Inferiore', 'Sierre/Siders', 'Zollikerberg', 'Aeschiried', 'Spiegel bei Bern', 'Krattigen', 'Geneva', 'Trubschachen', 'Campo', 'Binn', 'Marbach SG', 'Rebstein', 'St. Urban', 'Susten', 'Vers-Chez-Perrin', 'Flims Waldhaus', 'Gruben', 'Fully', 'Le Lignon', 'Flims', 'Rothenthurm', 'Villeneuve (VD)', 'Villeneuve VD', 'Plateau de Diesse', 'Etagnières', 'Waldstatt', 'Grünen', 'Vacallo', 'Bienne', 'La Neuveville', 'Oensingen', 'Rüfenacht', 'Tiefencastel', 'Pregny-Chambésy', 'Seftigen', 'Evilard', 'Villars-sur-Glâne', 'Couvet', 'Thayngen', 'Lupsingen', 'Rain', 'Steckborn', 'Härkingen', 'Moutier', 'Heimberg', 'Seuzach', 'Gebenstorf', 'Stansstad', 'Rorschacherberg', 'Feuerthalen', 'Clarmont', 'Peccia', 'Sattel', 'St. Antoni', 'Cologny', 'Goldingen', 'Ilanz', 'Dättlikon', 'Kriegstetten', 'Galgenen', 'Rüschegg Heubach', 'Les Acacias', 'Niederhelfenschwil', 'Bözberg', 'Au (ZH)', 'Rickenbach ZH', 'Chambesy (GE)', 'Kleindietwil', 'Vira (Gambarogno)', 'Ranzo', 'San Nazzaro', 'Biberist', 'Belfaux', 'Givisiez', 'Unterbäch', 'Bünzen', 'Saint-Ursanne', 'Arbedo', 'Bodio', 'Felsberg', 'Langnau im Emmental', 'Langnau', 'Fenil-sur-Corsier', 'Gossau SG', 'Sembrancher', 'Vandoeuvres', 'Rheinfelden (Baden)', 'Thundorf', 'Sarn', 'Nottwil', 'Villmergen', 'Weil am Rhein', 'Lupfig', 'Baldegg', 'La Fouly', 'Davos Dorf', 'Waltenschwil', 'Port', 'Gryon', 'Bettwil', 'Sarmenstorf', 'Evionnaz', 'Sierre', 'Detligen', 'Chemin', 'Davos Platz', 'Schlieren', 'Evolène', 'Euseigne', 'Schinznach Dorf', 'Schniznach Dorf', 'Eriswil', 'Areuse', 'Saxon', 'Beckenried', 'Buochs', 'meggen', 'Mendrisio', 'Kerns', 'Albinen', 'Eschenbach LU', 'Vogelsang', 'Küblis', 'Penthalaz', 'Romanel-sur-Morges', 'Le Sentier', 'Schönenberg', 'Hindelbank', 'Bonaduz', 'Risch-Rotkreuz', 'Grenzach-Wyhlen', 'Soglio', 'Promontogno', 'Bregaglia', 'Romanel-sur-Lausanne', 'Zeglingen', 'Römerswil', 'Römerswil LU', 'Saint-Aubin-Sauges', 'Arisdorf', 'Maggia', 'Hohenrain', 'Vorderthal', 'Bevaix', 'Vétroz', 'La Croix-sur-Lutry', 'Les Mosses', 'Mézières', \"L'Isle\", 'Bière', 'Kappel SO', 'Brienzwiler', 'Stein', 'Schlatt ZH', 'Villarepos', 'Bedretto', 'Rovio', 'Bütschwil', 'Egolzwil', 'Fafleralp', 'Gollion', 'Aclens', 'Möhlin', 'Herlisberg', 'Pensier', 'Dulliken', 'Mels', 'Maroggia', 'Melano', 'Roggwil', 'Linden', 'Rapperswil', 'Grossaffoltern', 'Lanzenneunforn', 'Muri b. Bern', 'Gaißau', 'Corminboeuf', 'Amden', 'Brüttisellen', 'Fontainemelon', 'Oberwil-Lieli', 'Chavornay', 'St. Ursen', 'Moiry VD', 'Les Haudères', 'Trey', 'Küssnacht (SZ)', 'Wilchingen', 'Eschlikon', 'Seegräben', 'Avenches', \"Les Sciernes-d'Albeuve\", 'Surrein', 'Rechthalten', 'Ermatingen', 'Flaach', 'Says', 'Gottlieben', 'Intragna', 'Ville-la-Grand', 'Zäziwil', 'Estavayer-le-Lac', 'Merishausen', 'Guntmadingen', 'Stechelberg', 'Sils Maria', 'Prangins', 'Echandens', 'Lonay', 'Ruppoldingen/Aarburg', 'Vallorbe', 'Menznau', 'Grosshöchstetten', 'Biezwil', 'Hasle LU', 'Origlio', 'Vésenaz', 'Unterkulm', 'Gluringen', 'Münster VS', 'Collonge-Bellerive', 'Boniswil', 'Innerberg', 'Oberbalm', 'Hergiswil (NW)', 'Ennetbürgen', 'Bouveret', 'Pugerna', 'Gersau', 'Kaisten', 'Medels', 'Aubonne', 'Niederbipp', 'Winznau', 'Süderen', 'Lengnau AG', 'Bottenwil', 'Puidoux', 'Suol', 'Bichelsee', 'Servion', 'Henggart', 'Münsigen', 'Kirchberg', 'Lenzburg', 'Lostorf', 'Büsingen am Hochrhein', 'Aeschi bei Spiez', 'Reichenbach', 'Faltschen', 'Felben-Wellhausen', 'vernier', 'Büren zum Hof', 'Vallamand', 'Unterentfelden', 'Bad Zurzach', 'Walkringen', 'Feldbach', 'Uitikon', 'Arbedo-Castione', 'Essertines-sur-Yverdon', 'Steinmaur', 'Bizzarone', 'Beinwil', 'Gontenschwil', 'Niederurnen', 'Rudolfstetten', 'Brienz BE', 'Jonen', 'Fiesso', 'Buchs AG', 'Speicher', 'Sonogno', 'Hergiswil NW', 'Hergiswil', 'Sins', 'Merenschwand', 'Goldau', 'Ibach', 'Ballwil', 'Wahlendorf', 'Märstetten', 'Abtwil', 'Les Rousses', 'Oberhofen', 'Bennau', 'Oberdorf BL', 'Lichtensteig', 'Gibswil', 'Geiss', 'Steinebrunn', 'Erlen', 'Gansingen', 'Oeschgen', 'Chancy', 'Küssaberg', 'Gossau (ZH)', 'Gossau ZH', 'Gossau', 'Glarus', 'Melide', 'Boveresse', 'Obermumpf', 'Schänis', 'Buttikon SZ', 'Unterseen', 'Schübelbach', 'Leuzigen', 'Escholzmatt', 'Pontresina', 'Obergerlafingen', 'Rütihof', 'Nürensdorf', 'Niederwald', 'Beringen', 'La-Chaux-de-Fonds', 'Altstätten SG', 'Wolfenschiessen', 'Vaulruz', 'Leuggern', 'Anières', 'Schwarzenbach (SG)', 'Flamatt', 'Schleinikon', 'Dürrenroth', 'Egliswil', 'Sevelen', 'Buchs SG', 'Oberdiessbach', 'Olivone', 'Villers-le-Lac', 'Innertkirchen', 'Saillon', 'Diemtigen', 'Bäriswil BE', 'Sumiswald', 'Mont-sur-Rolle', 'Champéry', 'Hausen AG', 'Ausserbinn', 'Naters', 'Hergiswil LU', 'Ecublens', 'Novaggio', 'Muri bei Bern', 'Brütten', 'Wangen-Brüttisellen', 'Gipf-Oberfrick', 'Birmenstorf AG', 'Busswil b. Büren', 'Chexbres', 'Clarens', 'Cossonay', 'Esslingen', 'Feldmeilen', 'Gorgier', 'Granges-Paccot', 'Lucens', 'Niederwangen', 'Corcelles / Peseux', 'Riggisberg', 'Rubigen', 'St-Blaise', 'St. Imier', 'St. Margrethen', 'Tschierv', 'Uetliberg', 'Stadel', 'Hägendorf', 'Schenkon', 'Thörishaus', 'Neuenegg', 'Malters', 'Gunzgen', 'Apples', 'Schwarzenberg LU', 'Oberwil BL', 'Novazzano', 'Flums', 'Montmollin', 'Bellach', 'Au ZH', 'Cernier', 'Lohn-Ammannsegg', 'Egnach', 'Chêne-Bougeries', 'Troistorrents', 'Reigoldswil', 'Crans-Montana', 'Lustdorf', 'Wetzikon TG', 'Wittinsburg', 'Morschach', 'Rigi Klösterli', 'Niederuzwil', 'Geneva;Acacias', 'Vufflens-la-Ville', 'Ambilly', 'Hofstetten SO', 'Bützberg', 'Saint-Imier', 'Conches', 'Niederwil', 'Territet', 'Waldkirch', 'Watt', 'Gaillard', 'Le Lignon/GE', 'Meyrin/GE', 'Roche', 'Weggis', 'Attalens', 'Chiasso', 'Grand Lancy', 'Geneve', 'Bourg-St.-Pierre', 'Treiten', 'Leissigen', 'Tschingel', 'Müntschemier', 'Faulensee', 'Berg', 'Neuheim', 'Choulex', 'Rheinheim', 'Sedorf', 'Balerna', 'Tagelswangen', 'Ausserferrera', 'Morcote', 'Niederteufen', 'Brusino Arsizio', 'Bissone', 'Mauborget', 'Muri', 'Nussbaumen AG', 'Luthern', 'Castagnola', 'Elsau', 'Alterswil', 'Hellbühl', 'Oberwil', 'Dietfurt', 'Praz', 'Knutwil', 'Schangnau', 'Balsthal', 'Besazio', 'Chamoson', 'Steinach', 'Möriken', 'Les Vérines (Chamoson)', 'Obergoldbach', 'Signau', 'Sempach Station', 'Biel', 'Kleinwangen', 'Geroldswil', 'Bidogno', 'Le Pâquier', 'Wengen', 'Crassier/VD', 'Crassier', 'Wernetshausen', 'Brig-Glis', 'Rickenbach LU', 'Busswil', 'Wiezikon b. Sirnach', 'Wiezikon', 'Busswil TG', 'Bogis-Bossey', 'Grugnay (Chamoson)', 'St-Pierre-de-Clages', 'Junkholz', 'Amlikon-Bissegg', 'Langenbruck', 'Gstaad', 'Niederscherli', 'Villa di Chiavenna', 'Valbella', 'Baulmes', 'Essert-Pittet', 'Thalheim an der Thur', 'Guttannen', 'Kaltacker', 'Parpan', 'Simplonpass', 'Meienried', 'Wünnewil', 'Melchnau', 'Altbüron', 'Safien Platz', 'Brione sopra Minusio', 'Mollis', 'Courtelary', 'Hildisrieden', 'Le Noirmont', 'Posieux', 'Bösingen', 'Cointrin, Genève', 'Lausen', 'Wangs', 'Mon', 'Misery', 'Madiswil', 'Mümliswil-Ramiswil', 'Vordemwald', 'Flurlingen', 'Les Reussilles', 'Othmarsingen', 'Les Paccots', 'St-Cergue', 'Arosio', 'Oberrohrdorf', 'La Rippe', 'Colombier', 'Siviez (Nendaz)', 'Altnau', 'Leimiswil', 'Rorbas', 'Bazenheid', 'Reckingen', 'Udligenswil', 'Laax', 'Luzern 16', 'Vattiz', 'Niederwangen bei Bern', 'Ferden', 'Haute-Nendaz', 'Blatten (Lötschen)', 'Uerikon', 'Hendschiken', 'Züberwangen', 'Bollingen', 'Sils im Engadin', 'Scherzingen', 'Seon', 'Fex/Sils', 'Fex', 'Le Brassus', 'Alberswil', 'Gundetswil', 'Oberrüti', 'Gsteigwiler', 'Islikon', 'Wiedlisbach', 'Rikon', 'Wangen an der Aare', 'Bigenthal', 'Wil (SG)', 'Oberbuchsiten', 'Schinznach Bad', 'Herdern', 'Oberbüren', 'Hilfikon', 'Lancy', 'Alpnach Dorf', 'Mannenbach', 'Seewis Dorf', 'Bättwil-Flüh', 'Münchringen', 'Mastrils', 'Zizers', 'Montet (Cudrefin)', 'Savièse', 'Bäretswil', 'Ardez', 'Hofstatt', 'Höfen', 'Maisprach', 'Rupperswil', 'Rheinau', 'Affoltern im Emmental', 'Hefenhofen', 'Schötz', 'Thielle-Wavre', 'St. Gallenkappel', 'Schwarzsee', 'Grengiols', 'Romainmôtier-Envy', 'Bönigen', 'Sisseln', 'Daiwil', 'Lully', 'Dettighofen', 'Hörhausen', 'Niederhünigen', 'Vex', 'Gunzwil', 'Wettswil am Albis', 'Fischenthal', 'Perly', 'Gerzensee', 'Ponte Cremenaga', 'jaun', 'Dardagny', 'Aesch LU', 'Puplinge', 'Unterterzen', 'Finsterwald b. Entlebuch', 'Schüpfheim', 'Undervelier', 'Marbach', 'Eichberg', 'Ardon', 'Oberkulm', 'Zillis', 'Cazis', 'Summaprada', 'Egerkingen', 'Ponte Capriasca', 'Flims Dorf', 'La Plaine', 'Niedergesteln', 'Cresta/Avers', 'Tolochenaz', 'Hermiswil', 'Hermance', 'Caneggio', 'Zuzwil (SG)', 'Balterswil', 'Collombey', 'Les Giettes', 'Senèdes', 'St. Margarethen TG', 'St. Antönien', 'Teufenthal', 'Schlatt', 'Acquarossa', 'Fahrweid', 'Twann', 'Montpreveyres', 'Weiningen (ZH)', 'Châtel-Saint-Denis', 'Zweidlen', 'Diessbach bei Büren', 'Beggingen', 'Hugelshofen', 'Dotnacht', 'Saland', 'Wila', 'Rämismühle', 'Gächlingen', 'Oberhallau', 'Hallau', 'Le Mont-sur-Lausanne', 'Oberstammheim', 'Trasadingen', 'Schlatt (TG)', 'Kleindöttingen', 'Le Prese', 'Chézard-Saint-Martin', 'Ueberstorf', 'Corsier-sur-Vevey', 'Geuensee', 'Stabio', 'Sagno', 'Schliern bei Köniz', 'Morbio Superiore', 'Vich', 'Arzo', 'Schwanden', 'Schwanden GL', 'Guggisberg', 'Vechigen', 'Radelfingen', 'Capolago', 'Oberurnen', 'Monte', 'Cartigny', 'Ambrì', 'Genestrerio', 'Ponte Chiasso', 'Cantello', 'Mühlau', 'Blumenstein', 'Greng', 'Bühler', 'Cugy', 'St-Aubin-Sauges', 'Vercorin', 'Magglingen', 'Brot-Plamboz', 'Rapperswil BE', 'Benglen', 'Gutenswil', 'Muri AG', 'Walterswil (SO)', 'Grandson', 'Pringy-Gruyères', 'Ferenbalm', 'Ried bei Kerzers', 'Gampelen', 'Saint-Prex', 'Sulz', 'Cresciano', 'Kleintwann', 'Gebertingen', 'Besenbüren', 'Sulgen', 'Manno', 'Schmitten (FR)', 'Wildberg', 'Péry', 'Rütschelen', 'Pany', 'Gudo', 'Les Granges', 'Wallenried', 'Prez-vers-Noréaz', 'Rancate', 'Rieden SG', 'Oberuzwil', 'Divonne-les-Bains', 'Solduno', 'Wohlenschwil-Büblikon', 'Arcegno', 'Dinhard', 'Hausen', 'Jonschwil', 'Alt St. Johann', 'Wikon', 'La Brévine', 'S. Carlo (Poschiavo)', 'La Brèvine', 'Zell (LU)', 'Golino', 'Staad', 'Bosco Gurin', 'Verscio', 'Aarau Rohr', 'Walenstadt', 'Rüthi', 'Ennetbaden', 'Boppelsen', 'Gordevio', 'Birmenstorf', 'Marly', 'Gerlafingen', 'Lamperswil TG', 'Hirschthal', 'Gümmenen', 'Triengen', 'Ammerswil', 'Arni (AG)', 'Auenstein', 'Birr', 'Bözen', 'Brittnau', 'Burg', 'Eiken', 'Fahrwangen', 'Hausen (AG)', 'Holziken', 'Petit-Martel', 'Klingnau', 'Meisterschwanden', 'Leimbach', 'Salorino', 'Muhen', 'Murgenthal', 'Olsberg', 'Schlossrued', 'Biel VS', 'Thalheim', 'Uerkheim', 'Wallbach', 'Wegenstetten', 'Wittnau', 'Zeiningen', 'Zetzwil', 'Zufikon', 'Churwalden', 'Lugano 1', 'Danis', 'Grüsch', 'Samnaun-Compatsch', 'Sent', 'Sils/Segl Maria', 'Trun', 'Vella', 'lugano', 'Heitenried', 'Rüegsauschachen', 'Weisslingen', 'Oetwil an der Limmat', 'Fürstenau', 'Affeier', 'Ellikon am Rhein', 'Därstetten', 'Luterbach', 'Flumenthal', 'Cremenaga', 'Schmidigen - Mühleweg', 'Rohrbachgraben', 'Inden', 'Wergenstein', 'Villars-sous-Yens', 'Chambésy', 'Valeyres-sous-Rances', 'Mönthal', 'Neftenbach', 'Falera', 'Au (SG)', 'Nesslau', 'Leontica', 'Mont-Crosin', 'Carasso', 'Blitzingen', 'Corcelles-Cormondrèche', 'Pfäffikon SZ, Schweiz', 'Surcuolm', 'Massagno', 'Somazzo', 'Meride', 'Arogno', 'Seseglio', 'Eggwil', 'Gattikon', 'Brittern', 'Unterramsern', 'Tavannes', 'Grolley', 'Bure', 'Romont FR', 'Drognens (Romont)', 'Grünenmatt', 'Chamblon', 'Stans-Oberdorf', 'Unterbach', 'Lavey-les-Bains', 'Davos Frauenkirch', 'Reutlingen (Winterthur)', 'Lommis', 'Hinterrhein', 'Rueun', 'Monteceneri', 'Riazzino', 'Gluringen / VS', 'Cressier FR', 'Muotathal', 'Illgau', 'Cademario', 'Quito', 'Termen', 'Niedergösgen', 'Kyburg', 'Siegershausen', 'Lustmühle AR', 'Bischofszell', 'Curio', 'Valendas', 'Goumois', 'Büttenhardt', 'Denges', 'Reinach AG', 'Nant', 'Les Monts-de-Pully', 'Stein AR', 'Tremona', 'Bottighofen', 'Glattpark', 'Bassecourt', 'Grandvaux', 'Gams', 'Salavaux', 'Caviano', 'Gonten', 'Uerschhausen', 'Russin', 'Reitnau', 'Cudrefin', 'Engollon', 'Neu St. Johann', 'Ennenda', 'Anzère', 'Mühlehorn', 'Fontaines', 'Ebertswil', 'Tenna', 'Steinen', 'Rietwil', 'Les Avants', 'Chavannes-sur-Moudon', 'Vezia', 'Vicques', 'Goumöens-la-Ville', 'Contone', 'Saint-Léonard', 'Axalp', 'Bursins', 'Hagenwil b. Amriswil', 'Dürrenäsch', 'Sünikon', 'Welschenrohr', 'Herbetswil', 'Lohn SH', 'Trimmis', 'Rennaz', 'Prato (Leventina)', 'Jungfraujoch', 'Sörenberg', 'Schinznach-Bad', \"Campione d'Italia\", 'Ersigern', 'Obergösgen', 'Malix', 'Wolfhalden', 'Roggwil TG', 'Agra', 'Corteglia', 'Stallikon', 'Remigen', 'Trachslau', 'Täsch', 'Wangen b. Olten', 'Kiesen', 'Jaberg', 'Herbligen', 'Pura', 'Jens', 'Mont-la-Ville', 'Neuhausen', 'La Sagne NE', 'Grossdietwil', 'Boll', 'Rue', 'Goppenstein', 'Cottens (FR)', 'Preonzo', 'Veltheim', 'Neuhaus', 'Wileroltigen', 'Lengnau', 'Ringgenberg (BE)', 'Laax Dorf', 'Igis', 'Dussnang', 'Neukirch an der Thur', 'Benken', 'Fläsch', 'Vignogn', 'Sigriswil', 'Rohrbach', 'Derendingen', 'Hornussen', 'Metzerlen-Mariastein', 'Schwarzenbach', 'Rodi', 'Krinau', 'Thürnen', 'Travers', 'Steg-Hohtenn', 'Werd-Rottenschwil', 'Bitsch', 'Reiden', 'Altstätten (SG)', 'Wattenwil', 'Wahlen', 'Fiesch', 'Courcelon', 'Le Cerneux-Veusil', 'Gerra (Gambarogno)', 'Courroux', 'Vionnaz', 'Herznach', 'Worb SBB', 'Oberbipp', 'Gribbio', 'Castrisch', 'Arch', 'Ergisch', 'Saanen', 'Arvigo', 'Bioley-Orjulaz', 'Vinelz', 'Alpnachstad', 'Rapperswil-Jona SG', 'Bondo', 'Bleiken', 'Kirchberg BE', 'Iseltwald', 'Vrin', 'Langnau i. E.', 'Willadingen', 'Raron', 'Oberwald', 'Alvaneu Dorf', 'rohrbachgraben', 'Oulens-sous-Echallens', 'Givrins', 'Schattenhalb', 'Ramosch', 'Kolbrun', 'Roggwil BE', 'Gasel', 'Nebikon', 'Oberwangen bei Bern', 'Pfaffnau', 'Vitznau', 'Untervaz', 'Bargen BE', 'Mägenwil', 'Münchenstein / Basel', 'Salmsach', 'Laupen BE', 'Kleinandelfingen', 'Böttstein', 'Concise', 'Sankt German', 'Vernayaz', 'Däniken', 'Glion - Montreux', 'Müswangen', 'Bilten', 'Agno', \"Serocca d'Agno\", 'Linthal', 'Berschis', 'Ambri', 'Avegno', 'Castelrotto', 'Muraz (Sierre)', 'Rossrüti', 'Épalinges', 'Courfaivre', 'Räterschen', 'Busswil BE', 'Fraubrunnen', 'Ittenthal', 'Lenk im Simmental', 'Vermes', 'Prêles', 'Sonvilier', 'Léchelles', 'Como', 'Botyre', 'Oberthal', 'Erschmatt', 'Luins', 'Vinzel', 'Ernetschwil', 'Winterberg', 'Bavois', 'Vilters', 'Vilters-Wangs', 'Trübbach', 'Oberschan', 'Weite', 'Fontas', 'Salez', 'Sool', 'Tobel', 'Alchenflüh', 'Charmey (Gruyère)', 'Vellerat', 'Lengnau BE', 'Canobbio', 'Cadro', 'Feusiberg', 'Eggerberg', 'Écuvillens', 'Haute Nendaz', 'Bächli (Hemberg)', 'Stein SG', 'Avry-sur-Matran', 'Ayent', 'Ballaigues', 'Bioley-Magnoux', 'Boulens', 'Bourg-Saint-Pierre', 'Bretigny', 'Chalais', 'Chardonne', 'Charmey', 'Châtonnaye', 'Chéserex', 'Collombey-Muraz', 'Coppet', 'Cortébert', 'Cossonay-Ville', 'Montagny', 'Crans-près-Céligny', 'Cressier', 'Daillens', 'Monnaz', 'Erde', 'Farvagny', 'Rossens', 'Fleurier', 'Froideville', 'Morrens', 'Geneveys-sur-Coffrane', 'Genolier', 'Genthod', 'Gimel', 'Grandcour', 'Grimisuat', 'Grône', 'Carouge GE', 'Chailly-Montreux', 'Hérémence', 'La Sage', \"L'Auberson\", 'Le Vaud', 'Massongex', 'Montricher', 'Nax', 'Balmberg', 'Rongellen', 'Wynigen', 'Perroy', 'Reconvilier', 'Renan', 'Riddes', 'Saint-Aubin', 'Saint-George', 'Saint-Maurice', 'Waldenstadt', 'Sâles', 'Salvan', 'Sorens', 'Saint-Gingolph', 'Saint-Martin', 'Martina', \"Val-d'Illiez\", 'Villeret', 'Wangenried', 'Vissoie', 'Vollèges', 'Aedermannsdorf', 'Pleujouse', 'Vuarrens', 'Cormoret', 'Avry', 'Fuldera', 'Onnens', 'Miège', 'Vuadens', 'La Chaux', 'Vérossaz', 'Guévaux', 'Bivio', 'Breganzona', 'Carabbia', 'Castione', 'Barbengo', 'Gordola', 'Berneck', 'Roveredo', 'Lodrino', 'Gravesano', 'Grono', 'Glovelier', 'Ernen', 'Fribourg - Freiburg', 'Lamone', 'Savosa', 'Sementina', 'Sorengo', 'Davos Monstein', 'Stierva', 'Agiez', 'Fraufenfeld', 'Splügen', 'Bannwil', 'Casaccia', 'Matran', 'La Chaux-du-Milieu', 'Sax', 'Rickenbach b. Wil', 'Wintersingen', 'Bretzwil', 'Mesocco', 'Azmoos', 'Zürich Flughafen', 'Epauvillers', 'Bettwiesen', 'Chur 1', 'Schinznach-Dorf', 'Obergesteln', 'Mühlebach (Goms)', 'Aegerten', 'La Punt Chamues-ch', 'Hochfelden', 'Ulrichen', 'Sion;sion', 'Heiligenschwendi', 'Comologno', 'Ulisbach', 'Malans', 'Magglingen/Macolin', 'Hofstetten', 'Benken ZH', 'Rümligen', 'Rhäzüns', 'Matzingen', 'Seedorf BE', 'Gsteig bei Gstaad', 'Sempach (CH)', 'Kappelen', 'Bramois', 'Berlingen', 'Breil-Brigels', 'Waltensburg/Vuorz', 'Versam', 'Medels im Oberland', 'Breganzona, Lugano', 'Rivera', 'Carì', 'Berken', 'Zihlschlacht', 'Corippo', 'Almens', 'Pazzallo', 'Uitikon Waldegg', 'Bürglen', 'Tüscherz-Alfermée', 'Contra', 'Sisikon', 'Tenero-Contra', 'Nods', 'Rheineck', 'Mitlödi', 'Villigen PSI', 'Villigen', 'Les Geneveys-sur-Coffrane', 'Walzenhausen', 'Rüdlingen', 'Wengi bei Frutigen', 'Chevroux', 'Semione', 'Uhwiesen', 'Randa', 'Gwatt (Thun)', 'Oberhelfenschwil', 'Caux', 'Les Evouettes', 'Lamboing', 'Cauco', 'Tartegnin', 'Gilly', 'Paradiso', 'Haag', 'Chambrelien', 'Matzendorf', 'Jussy', 'Koppigen', 'Altdorf', 'Praz-de-Fort', 'Hellsau', 'Seeberg', 'Humlikon', 'Camischolas', 'Merligen', 'Gnosca', 'Himmelried', 'Ruschein', 'Schwägalp', 'Säntis', 'Schafisheim', 'Gabi (Simplon)', 'Misery-Courtion', 'Isenthal', 'Oggio', 'Asp', 'Staufen', 'Vucherens', 'Lavena Ponte Tresa', 'Klosters Dorf', 'Saas Almagell', 'Sufers', 'Mosen', 'Trélex', 'Ebersol', 'Birg', 'Ursenbach', 'Siat', 'Sankt Moritz', 'Melchsee-Frutt', 'Grub AR', 'Grub (AR)', 'Camorino', 'Münster (VS)', 'Rüttenen', 'Brugg AG', 'La Tène', 'Castaneda', 'Bellelay', 'Kirchdorf AG', 'St. Margrethen SG', 'Ringgenberg BE', 'Zell', 'Landschlacht', 'Höri', 'Niederbuchsiten', 'Neuendorf', 'Arolla', \"Bois-d'Amont\", 'Aesch BL', 'Villmergern', 'Lyssach', 'Hettiswil', 'Mörigen', 'Rickenbach', 'Aarwangen', 'Orvin', 'Homburg', 'Kradolf-Schönenberg', 'Gächliwil', 'Kirchberg SG', 'Bönigen bei Interlaken', 'La Punt-Chamues-ch', 'Reichenburg', 'Berg TG', 'Regensberg', 'Münchenwiler', 'Endingen', 'Oberneunforn', 'Guntalingen', 'Niederwil AG', 'Röthenbach Herzogenbuchsee', 'Beinwil (Freiamt)', 'Auw', 'Mumpf', 'Kestenholz', 'Wolfwil', 'Hergiswil b. Willisau', 'Mervelier', 'Selzach', 'Witterswil', 'Les Rasses', 'Mosnang', 'Lütisburg', 'Zwingen', 'Zuzwil', 'Granges', 'Brislach', 'Weiach', 'Fischbach-Göslikon', 'Veltheim AG', 'Fluelen', 'Schönbühl', 'Recherswil', 'Küssnacht', 'Kehrsiten', 'Granges-près-Marnand', 'Mettau', 'Hasliberg Wasserwendi', 'Trin', 'Elm', 'Sennwald', 'Bürglen OW', 'Fischbach LU', 'Saint-Sulpice', 'Höchst', 'Magliaso', 'Sedrun', 'Trüllikon', 'Staad SG', 'Vuisternens-devant-Romont', 'Veyras', 'Rigi Kaltbad', 'Les Collons', 'Aefligen', 'Dicken', 'Chavannes-pre-renens', 'Courrendlin', 'Matt', 'Hondrich', 'Montfaucon', 'Stadel b. Niederglatt', 'Tecknau', 'Läufelfingen', 'Rickenbach Sulz', 'Hägglingen', 'Ormalingen', 'Ritzingen', 'Niederdorf', 'Botyre (Ayent)', 'Mauensee', 'Schongau', 'Thierrens', 'Bercher', 'Vaulion', 'Céligny', 'Forel (Lavaux)', 'Hüntwangen', 'Uster ZH', 'Charmoille', 'Neyruz (FR)', 'Opfershofen', 'Hinteregg', 'Oron', 'Alle', 'Echarlens', 'Giumaglio', 'Rünenberg', 'Grancia', 'Chézard-St-Martin', 'Châbles FR', 'Castasegna', 'Avry-Centre', 'Arni AG', 'Oleyres', 'Braggio', 'La Croix (Lutry)', 'Fétigny', 'Pont-de-la-Morge', 'Pont-de-la-Morge (Sion)', 'Saint-Séverin', 'Faido', 'Praz-Vully', 'Grandval', 'Villars-le-Terroir', 'Weesen', 'Veysonnaz', 'Montbovon', 'Ilanz/Glion', 'Sensine', 'St-Séverin', 'Daillon', 'Aven', 'St-Léonard', 'St-Martin VS', 'Chermignon', 'Lens', 'Basse-Nendaz', 'Dorénaz', 'Versegères', 'Isérables', 'Ronco sopra Ascona', 'Sullens', 'Jaun', 'Oberriet SG', 'Unteregngstringen', 'Muntogna da Schons', 'Mollie-Margot', 'Piazzogna', 'Gaienhofen', 'Luzern - Littau', 'Vicosoprano', 'Préverenges', 'Le Pont', 'Vuisternens-en-Ogoz', 'Tentlingen', 'Neyruz', 'Chippis', 'Echichens', 'Seewen SZ', 'Randogne', 'Eich', 'Chandolin', 'Ennetmoos', 'Luzern - Reussbühl', 'Pfeffikon LU', 'Silenen', 'Wauwil', 'Collonges-sous-Salève', 'Flüeli-Ranft', 'Langnau bei Reiden', 'Neudorf', 'Wassen', 'Häfelfingen', 'Davos Glaris', 'Affeltrangen', 'Crans VS', 'Reichenbach im Kandertal', 'Breil/Brigels', 'Disentis/Muster', 'Taverne', 'Juf', 'Réchy', 'Cheseaux-Noréaz', 'Seedorf (UR)', 'S-chanf', 'Ausserberg', 'Oberwetzikon', 'Bättwil', 'Buch am Irchel', 'Lüterswil', 'Wilen bei Wil', 'Altwis', 'Doppleschwand', 'Ermensee', 'Eschenbach (LU)', 'Gettnau', 'Hämikon', 'Prévessin-Moëns', 'Ohmstal', 'Pfeffikon', 'Retschwil', 'Richenthal', 'Romoos', 'Roggliswil', 'Schlierbach', 'Oberweningen', 'Winikon', 'Uffikon', 'Ufhusen', 'Wilihof', 'Gretzenbach', 'Lumino', 'Krauchthal', 'Hasle', 'Palézieux-Village', 'Attelwil', 'Estavannens', 'Erschwil', 'Affoltern', 'Torre', 'Semsales', 'Unterendingen', 'Avers', 'Dickbuch', 'Gressy', 'Ebnet', 'Kollbrunn', 'Lufingen', 'Les Bois', 'Wiliberg', 'Muraz (Collombey)', 'Sils im Domleschg', 'Braunau', 'Uerzlikon', 'Meinier', 'Leggia', 'Wangen bei Dübendorf', 'Kulmerau', 'Gumefens', 'Collombey-le-Grand', 'Wermatswil', 'Bourguillon', 'Wil ZH', 'Stetten (SH)', 'Murg', 'Montagny-près-Yverdon', 'St-Triphon', 'Alpthal', 'Niederglatt SG', 'Blauen', 'Mogelsberg', 'Rothenhausen', 'Abtwil SG', 'Waldenburg', 'Gippingen', 'Obersiggenthal', 'Bellmund', 'Schmidigen-Mühleweg', 'Dully', 'Bollion', 'Lützelflüh-Goldbach', 'Riedikon', 'Truttikon', 'Les Avanchets', 'Vezio', 'Bangerten', 'Estavayer', 'Nuglar', 'Seltisberg', 'Riex', 'Epesses', 'Essertines-sur-Rolle', 'Vullierens', 'Saubraz', 'Chavannes-le-Veyron', 'Dizy', 'La Chaux (Cossonay)', 'Eclépens', 'Ferreyres', 'Kilchberg ZH', 'Suchy', 'Giez', 'Suscévaz', 'Bonvillars', 'Provence', 'Ursins', 'Jouxtens-Mézery', 'Villars-Epeney', 'Sévaz', 'Murist', 'Saint-Aubin (FR)', 'Combremont-le-Grand', 'Chapelle-sur-Moudon', 'Orzens', 'Démoret', 'Combremont-le-Petit', 'Roche VD', 'Lully (FR)', 'Oppens', 'Bussy-sur-Moudon', 'Fey', 'Vulliens', 'Villars-Mendraz', 'Peney-le-Jorat', 'Ecoteaux', 'Essertes', 'Siviriez', 'Flendruz', 'Rossinière', 'Montet (Glâne)', \"L'Abbaye\", 'Le Séchey', 'Neuhaus SG', 'Denens', 'Pompaples', 'Kradolf', 'Gadmen']\n"
     ]
    }
   ],
   "source": [
    "# SHow all addr:city\n",
    "unique_amenities = df['addr:city'].unique()\n",
    "print(list(unique_amenities))"
   ]
  },
  {
   "cell_type": "code",
   "execution_count": 37,
   "id": "fd25a363-864a-4a7d-9473-cd4cfa758abf",
   "metadata": {},
   "outputs": [],
   "source": [
    "# show all uni's / college's / research facilities\n",
    "uni_df = df[df['amenity'].isin(['university', 'college', 'research_facility'])]\n",
    "#print(uni_df.name.unique())"
   ]
  },
  {
   "cell_type": "code",
   "execution_count": 8,
   "id": "f4a196c8-5a22-4c17-a398-18fa05edabec",
   "metadata": {},
   "outputs": [],
   "source": [
    "uni_df = colleges_df"
   ]
  },
  {
   "cell_type": "code",
   "execution_count": 9,
   "id": "6b5bbb6e-63ce-4d35-81d4-87cf6e3119a1",
   "metadata": {},
   "outputs": [],
   "source": [
    "# Keeping only amentities which are relevant to us\n",
    "amenities_list = [\n",
    "    'bar', 'biergarten', 'cafe', 'fast_food', 'food_court', 'ice_cream', 'restaurant', 'pub', \n",
    "    'arts_centre', 'casino', 'cinema', 'community_centre', 'events_venue', 'gambling', 'music_venue', \n",
    "    'nightclub', 'theatre', 'library', 'dancing_school', 'training', 'atm', 'bank', 'bureau_de_change', \n",
    "    'bus_station', 'charging_station', 'bicycle_parking', 'motorcycle_parking', 'bicycle_repair_station', \n",
    "    'bicycle_rental', 'clinic', 'dentist', 'doctors', 'hospital', 'pharmacy', 'police', 'post_box', \n",
    "    'post_office', 'university', 'college', 'research_institute'\n",
    "]\n",
    "\n",
    "# Filter the dataframe based on the amenities list\n",
    "filtered_df = df[df['amenity'].isin(amenities_list)]\n"
   ]
  },
  {
   "cell_type": "code",
   "execution_count": 10,
   "id": "006aad9e-10d3-4455-9b1b-eb7c95bb20ed",
   "metadata": {},
   "outputs": [],
   "source": [
    "# This function will be used for the process beneath, to filter the data by distance of all university facilities\n",
    "import math\n",
    "\n",
    "def haversine(lat1, lon1, lat2, lon2):\n",
    "    R = 6371.0  # Radius of the Earth in kilometers\n",
    "    dlat = math.radians(lat2 - lat1)\n",
    "    dlon = math.radians(lon2 - lon1)\n",
    "    a = (math.sin(dlat / 2) ** 2 +\n",
    "         math.cos(math.radians(lat1)) * math.cos(math.radians(lat2)) * math.sin(dlon / 2) ** 2)\n",
    "    c = 2 * math.atan2(math.sqrt(a), math.sqrt(1 - a))\n",
    "    return R * c\n"
   ]
  },
  {
   "cell_type": "code",
   "execution_count": 11,
   "id": "9ae6c31b-9e29-446b-891f-7a785ec3f491",
   "metadata": {},
   "outputs": [],
   "source": [
    "filtered_df.loc[:, 'lat'] = filtered_df['lat'].astype(float)\n",
    "filtered_df.loc[:, 'lon'] = filtered_df['lon'].astype(float)"
   ]
  },
  {
   "cell_type": "code",
   "execution_count": 12,
   "id": "3cac412b-eeaf-4557-9581-e3cbb51e5ea4",
   "metadata": {
    "tags": []
   },
   "outputs": [
    {
     "name": "stdout",
     "output_type": "stream",
     "text": [
      "Index(['amenity', 'fixme', 'name', 'operator', 'id', 'lat', 'lon',\n",
      "       'addr:housenumber', 'addr:street', 'url',\n",
      "       ...\n",
      "       'recycling:co2_cartridges', 'network:website',\n",
      "       'authentification:contactless', 'authentification:mobile_phone',\n",
      "       'payment:cont', 'wheelchair:step_height', 'authentication:credit_card',\n",
      "       'authentication:membership_app', 'payment:parkinpay', 'grill_grate'],\n",
      "      dtype='object', length=1750)\n"
     ]
    }
   ],
   "source": [
    "print(filtered_df.columns)"
   ]
  },
  {
   "cell_type": "code",
   "execution_count": 13,
   "id": "dc53d8df-4b64-491e-a6c9-09d7131b4766",
   "metadata": {},
   "outputs": [],
   "source": [
    "#This will filter the data\n",
    "filtered_df_copy = filtered_df.copy()\n",
    "\n",
    "# Ensure 'lat' and 'lon' are float types\n",
    "filtered_df_copy['lat'] = filtered_df_copy['lat'].astype(float)\n",
    "filtered_df_copy['lon'] = filtered_df_copy['lon'].astype(float)\n",
    "\n",
    "# Extract coordinates for universities, colleges, or research facilities\n",
    "facilities = filtered_df_copy[filtered_df_copy['amenity'].isin(['university', 'college', 'research_institute'])]\n",
    "facilities_coords = facilities[['lat', 'lon']].values\n",
    "\n",
    "# For each amenity, compute the distance to the nearest facility\n",
    "def min_distance_to_facility(row):\n",
    "    return min(haversine(row['lat'], row['lon'], facility[0], facility[1]) for facility in facilities_coords)\n",
    "\n",
    "# Use the .loc[] accessor on the copy\n",
    "filtered_df_copy['distance_to_facility'] = filtered_df_copy.apply(min_distance_to_facility, axis=1)\n",
    "\n",
    "# Keep only amenities which are university, college, research_institute or closer than 5km to them\n",
    "final_df = filtered_df_copy[(filtered_df_copy['amenity'].isin(['university', 'college', 'research_institute'])) | (filtered_df_copy['distance_to_facility'] <= 5)]\n",
    "\n"
   ]
  },
  {
   "cell_type": "markdown",
   "id": "b0935df0-d0b8-48f2-8aa2-2279a9f22dd2",
   "metadata": {},
   "source": []
  },
  {
   "cell_type": "code",
   "execution_count": 16,
   "id": "916bd445-2fce-47f9-9cdd-c1cb2a977207",
   "metadata": {},
   "outputs": [],
   "source": [
    "import numpy as np\n",
    "\n",
    "# Convert the DataFrame back to a dictionary\n",
    "data_dict = final_df.to_dict(orient='records')\n",
    "\n",
    "# Clean the dictionary to remove NaN values\n",
    "cleaned_data = []\n",
    "for record in data_dict:\n",
    "    clean_record = {key: value for key, value in record.items() if not (isinstance(value, float) and np.isnan(value))}\n",
    "    cleaned_data.append(clean_record)\n",
    "# To create the same nde structure as before\n",
    "\n"
   ]
  },
  {
   "cell_type": "code",
   "execution_count": 18,
   "id": "7b11722d-8417-43e6-a78e-61e96fb6ccf7",
   "metadata": {
    "tags": []
   },
   "outputs": [],
   "source": [
    "#structured_json.to_json('C:/Users/aober/Documents/Data Science Studium/3Semester/SoftwareProject3/PM3_1/data/processed_data.json', orient='records', lines=True)\n",
    "output_path = 'C:/Users/aober/Documents/Data Science Studium/3Semester/SoftwareProject3/PM3_1/data/processed_data.json'\n",
    "with open(output_path, 'w') as file:\n",
    "    json.dump(cleaned_data, file, indent=4)\n"
   ]
  }
 ],
 "metadata": {
  "kernelspec": {
   "display_name": "Python 3 (ipykernel)",
   "language": "python",
   "name": "python3"
  },
  "language_info": {
   "codemirror_mode": {
    "name": "ipython",
    "version": 3
   },
   "file_extension": ".py",
   "mimetype": "text/x-python",
   "name": "python",
   "nbconvert_exporter": "python",
   "pygments_lexer": "ipython3",
   "version": "3.9.12"
  }
 },
 "nbformat": 4,
 "nbformat_minor": 5
}
