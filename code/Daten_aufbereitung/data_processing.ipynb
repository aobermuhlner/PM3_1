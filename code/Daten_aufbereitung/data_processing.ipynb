{
 "cells": [
  {
   "cell_type": "code",
   "execution_count": 1,
   "id": "6b2cdc98-57ae-43a8-8b34-a0d75088c03f",
   "metadata": {},
   "outputs": [],
   "source": [
    "import json\n",
    "import pandas as pd\n",
    "from pandas import json_normalize\n",
    "\n",
    "# Load the JSON data\n",
    "with open('../../data/osm-output.json', 'r') as file:\n",
    "    data = json.load(file)\n",
    "    \n",
    "\n",
    "with open('../../data/colleges_clean.json', 'r') as file:\n",
    "    colleges_data = json.load(file)\n"
   ]
  },
  {
   "cell_type": "code",
   "execution_count": 29,
   "id": "76ae0407-7b0a-4b60-88bd-86c45682952b",
   "metadata": {
    "tags": []
   },
   "outputs": [],
   "source": [
    "nodes_data = data['nodes']\n",
    "\n",
    "# Convert to DataFrame\n",
    "df = pd.DataFrame(nodes_data)\n",
    "\n",
    "colleges_df = pd.DataFrame(colleges_data)\n"
   ]
  },
  {
   "cell_type": "code",
   "execution_count": 30,
   "id": "2924f263-fc85-4674-b97e-c0e25d74281e",
   "metadata": {
    "tags": []
   },
   "outputs": [],
   "source": [
    "# SHow all amenities\n",
    "unique_amenities = df['amenity'].unique()"
   ]
  },
  {
   "cell_type": "code",
   "execution_count": 31,
   "id": "2b11f7e1-8d1b-4dc8-b019-66ff0b501fad",
   "metadata": {
    "tags": []
   },
   "outputs": [],
   "source": [
    "# SHow all addr:city\n",
    "unique_amenities = df['addr:city'].unique()"
   ]
  },
  {
   "cell_type": "code",
   "execution_count": 32,
   "id": "fd25a363-864a-4a7d-9473-cd4cfa758abf",
   "metadata": {},
   "outputs": [],
   "source": [
    "# show all uni's / college's / research facilities\n",
    "uni_df = df[df['amenity'].isin(['university', 'college', 'research_facility'])]\n",
    "#print(uni_df.name.unique())"
   ]
  },
  {
   "cell_type": "code",
   "execution_count": 33,
   "id": "f4a196c8-5a22-4c17-a398-18fa05edabec",
   "metadata": {},
   "outputs": [],
   "source": [
    "uni_df = colleges_df"
   ]
  },
  {
   "cell_type": "code",
   "execution_count": 34,
   "id": "6b5bbb6e-63ce-4d35-81d4-87cf6e3119a1",
   "metadata": {},
   "outputs": [],
   "source": [
    "# Keeping only amentities which are relevant to us\n",
    "amenities_list = [\n",
    "    'bar', 'cafe', 'fast_food', 'food_court', 'restaurant', 'pub', \n",
    "    'arts_centre', 'casino', 'cinema', 'events_venue', 'music_venue', \n",
    "    'nightclub', 'theatre', 'library', 'atm', 'bank', \n",
    "    'bus_station', 'bicycle_parking', 'bicycle_repair_station', 'doctors', 'hospital', 'pharmacy', 'police', 'post_box', \n",
    "    'post_office'\n",
    "]\n",
    "\n",
    "# Filter the dataframe based on the amenities list\n",
    "filtered_df = df[df['amenity'].isin(amenities_list)]\n"
   ]
  },
  {
   "cell_type": "code",
   "execution_count": 35,
   "id": "006aad9e-10d3-4455-9b1b-eb7c95bb20ed",
   "metadata": {},
   "outputs": [],
   "source": [
    "# This function will be used for the process beneath, to filter the data by distance of all university facilities\n",
    "import math\n",
    "\n",
    "def haversine(lat1, lon1, lat2, lon2):\n",
    "    R = 6371.0  # Radius of the Earth in kilometers\n",
    "    dlat = math.radians(lat2 - lat1)\n",
    "    dlon = math.radians(lon2 - lon1)\n",
    "    a = (math.sin(dlat / 2) ** 2 +\n",
    "         math.cos(math.radians(lat1)) * math.cos(math.radians(lat2)) * math.sin(dlon / 2) ** 2)\n",
    "    c = 2 * math.atan2(math.sqrt(a), math.sqrt(1 - a))\n",
    "    return R * c\n"
   ]
  },
  {
   "cell_type": "code",
   "execution_count": 36,
   "id": "9ae6c31b-9e29-446b-891f-7a785ec3f491",
   "metadata": {},
   "outputs": [
    {
     "name": "stderr",
     "output_type": "stream",
     "text": [
      "C:\\Users\\aober\\AppData\\Local\\Temp\\ipykernel_55940\\2508885780.py:1: SettingWithCopyWarning: \n",
      "A value is trying to be set on a copy of a slice from a DataFrame.\n",
      "Try using .loc[row_indexer,col_indexer] = value instead\n",
      "\n",
      "See the caveats in the documentation: https://pandas.pydata.org/pandas-docs/stable/user_guide/indexing.html#returning-a-view-versus-a-copy\n",
      "  filtered_df.loc[:, 'lat'] = filtered_df['lat'].astype(float)\n",
      "C:\\Users\\aober\\AppData\\Local\\Temp\\ipykernel_55940\\2508885780.py:1: DeprecationWarning: In a future version, `df.iloc[:, i] = newvals` will attempt to set the values inplace instead of always setting a new array. To retain the old behavior, use either `df[df.columns[i]] = newvals` or, if columns are non-unique, `df.isetitem(i, newvals)`\n",
      "  filtered_df.loc[:, 'lat'] = filtered_df['lat'].astype(float)\n",
      "C:\\Users\\aober\\AppData\\Local\\Temp\\ipykernel_55940\\2508885780.py:2: SettingWithCopyWarning: \n",
      "A value is trying to be set on a copy of a slice from a DataFrame.\n",
      "Try using .loc[row_indexer,col_indexer] = value instead\n",
      "\n",
      "See the caveats in the documentation: https://pandas.pydata.org/pandas-docs/stable/user_guide/indexing.html#returning-a-view-versus-a-copy\n",
      "  filtered_df.loc[:, 'lon'] = filtered_df['lon'].astype(float)\n",
      "C:\\Users\\aober\\AppData\\Local\\Temp\\ipykernel_55940\\2508885780.py:2: DeprecationWarning: In a future version, `df.iloc[:, i] = newvals` will attempt to set the values inplace instead of always setting a new array. To retain the old behavior, use either `df[df.columns[i]] = newvals` or, if columns are non-unique, `df.isetitem(i, newvals)`\n",
      "  filtered_df.loc[:, 'lon'] = filtered_df['lon'].astype(float)\n"
     ]
    }
   ],
   "source": [
    "filtered_df.loc[:, 'lat'] = filtered_df['lat'].astype(float)\n",
    "filtered_df.loc[:, 'lon'] = filtered_df['lon'].astype(float)"
   ]
  },
  {
   "cell_type": "code",
   "execution_count": 37,
   "id": "dc53d8df-4b64-491e-a6c9-09d7131b4766",
   "metadata": {},
   "outputs": [],
   "source": [
    "#This will filter the data\n",
    "filtered_df_copy = filtered_df.copy()\n",
    "\n",
    "# Ensure 'lat' and 'lon' are float types\n",
    "filtered_df_copy['lat'] = filtered_df_copy['lat'].astype(float)\n",
    "filtered_df_copy['lon'] = filtered_df_copy['lon'].astype(float)\n",
    "\n",
    "# Extract coordinates for universities, colleges, or research facilities\n",
    "facilities = uni_df\n",
    "facilities_coords = facilities[['lat', 'lon']].values\n",
    "\n",
    "# For each amenity, compute the distance to the nearest facility\n",
    "def min_distance_to_facility(row):\n",
    "    return min(haversine(row['lat'], row['lon'], facility[0], facility[1]) for facility in facilities_coords)\n",
    "\n",
    "# Use the .loc[] accessor on the copy\n",
    "filtered_df_copy['distance_to_facility'] = filtered_df_copy.apply(min_distance_to_facility, axis=1)\n",
    "\n",
    "# Keep only amenities which are university, college, research_institute or closer than 5km to them\n",
    "final_df = filtered_df_copy[(filtered_df_copy['amenity'].isin(['university', 'college', 'research_institute'])) | (filtered_df_copy['distance_to_facility'] <= 10)]\n",
    "\n"
   ]
  },
  {
   "cell_type": "code",
   "execution_count": 38,
   "id": "d90b284e-d5d0-4d2e-b1e0-8fdef2907540",
   "metadata": {},
   "outputs": [
    {
     "name": "stderr",
     "output_type": "stream",
     "text": [
      "C:\\Users\\aober\\AppData\\Local\\Temp\\ipykernel_55940\\3266826185.py:1: SettingWithCopyWarning: \n",
      "A value is trying to be set on a copy of a slice from a DataFrame.\n",
      "Try using .loc[row_indexer,col_indexer] = value instead\n",
      "\n",
      "See the caveats in the documentation: https://pandas.pydata.org/pandas-docs/stable/user_guide/indexing.html#returning-a-view-versus-a-copy\n",
      "  final_df.loc[:, 'location'] = final_df.apply(lambda row: {\"type\": \"Point\", \"coordinates\": [row['lon'], row['lat']]}, axis=1)\n"
     ]
    }
   ],
   "source": [
    "final_df.loc[:, 'location'] = final_df.apply(lambda row: {\"type\": \"Point\", \"coordinates\": [row['lon'], row['lat']]}, axis=1)\n"
   ]
  },
  {
   "cell_type": "code",
   "execution_count": null,
   "id": "decd55f6-afdb-4c0e-a864-108e7f979ba9",
   "metadata": {},
   "outputs": [],
   "source": [
    "print(final_df.apply(lambda row: {\"type\": \"Point\", \"coordinates\": [row['lon'], row['lat']]}, axis=1))"
   ]
  },
  {
   "cell_type": "markdown",
   "id": "b0935df0-d0b8-48f2-8aa2-2279a9f22dd2",
   "metadata": {},
   "source": []
  },
  {
   "cell_type": "code",
   "execution_count": null,
   "id": "916bd445-2fce-47f9-9cdd-c1cb2a977207",
   "metadata": {},
   "outputs": [],
   "source": [
    "import numpy as np\n",
    "\n",
    "# Convert the DataFrame back to a dictionary\n",
    "data_dict = final_df.to_dict(orient='records')\n",
    "\n",
    "# Clean the dictionary to remove NaN values\n",
    "cleaned_data = []\n",
    "for record in data_dict:\n",
    "    clean_record = {key: value for key, value in record.items() if not (isinstance(value, float) and np.isnan(value))}\n",
    "    cleaned_data.append(clean_record)\n",
    "# To create the same nde structure as before\n",
    "\n"
   ]
  },
  {
   "cell_type": "code",
   "execution_count": null,
   "id": "7b11722d-8417-43e6-a78e-61e96fb6ccf7",
   "metadata": {
    "tags": []
   },
   "outputs": [],
   "source": [
    "#structured_json.to_json('C:/Users/aober/Documents/Data Science Studium/3Semester/SoftwareProject3/PM3_1/data/processed_data.json', orient='records', lines=True)\n",
    "output_path = 'C:/Users/aober/Documents/Data Science Studium/3Semester/SoftwareProject3/PM3_1/data/processed_data.json'\n",
    "with open(output_path, 'w') as file:\n",
    "    json.dump(cleaned_data, file, indent=4)\n"
   ]
  },
  {
   "cell_type": "code",
   "execution_count": null,
   "id": "8e58d7af-211f-4306-98c9-a786a79c5d40",
   "metadata": {},
   "outputs": [],
   "source": []
  }
 ],
 "metadata": {
  "kernelspec": {
   "display_name": "Python 3 (ipykernel)",
   "language": "python",
   "name": "python3"
  },
  "language_info": {
   "codemirror_mode": {
    "name": "ipython",
    "version": 3
   },
   "file_extension": ".py",
   "mimetype": "text/x-python",
   "name": "python",
   "nbconvert_exporter": "python",
   "pygments_lexer": "ipython3",
   "version": "3.9.12"
  }
 },
 "nbformat": 4,
 "nbformat_minor": 5
}
